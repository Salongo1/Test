{
 "cells": [
  {
   "cell_type": "markdown",
   "id": "bc3f848c-680d-487a-b423-c6e6a50df162",
   "metadata": {},
   "source": [
    "# Data Science Tools and Ecosystem"
   ]
  },
  {
   "cell_type": "markdown",
   "id": "906345b0-0163-4598-8f60-0360530a62ff",
   "metadata": {},
   "source": [
    "In this notebook, Data Science Tools and Ecosystem are summarized."
   ]
  },
  {
   "cell_type": "markdown",
   "id": "c05a3c42-025d-42cc-b1c3-9670a1863fd9",
   "metadata": {},
   "source": [
    "__Objectives:__\n",
    "+ List of popular languages for Data Science\n",
    "+ Some commonly used libraries in Data Science\n",
    "+ Some open source tools in Data Science\n",
    "+ Some arithmetic expressions in Python"
   ]
  },
  {
   "cell_type": "markdown",
   "id": "0fa9b23c-37ae-4ce4-800b-b31a23d5d359",
   "metadata": {},
   "source": [
    "Some of the popular languages that Data Scientists use are:"
   ]
  },
  {
   "cell_type": "raw",
   "id": "fe59d8a0-7a44-4f68-aa2d-4b93ec892ea6",
   "metadata": {},
   "source": [
    "1. Python\n",
    "2. C+\n",
    "3. C++\n",
    "4. Java"
   ]
  },
  {
   "cell_type": "markdown",
   "id": "6f56d1a0-316b-42fc-8b76-2e8c7c6ae629",
   "metadata": {},
   "source": [
    "Some of the commonly used libraries used by Data Scientists include:"
   ]
  },
  {
   "cell_type": "markdown",
   "id": "5540fd70-7439-4a8e-9d22-5dcbeeadf017",
   "metadata": {},
   "source": [
    "1. Python libraries\n",
    "2. NumPy libraries\n",
    "3. dplyr\n",
    "4. ggplot"
   ]
  },
  {
   "cell_type": "markdown",
   "id": "b908d04c-fe2a-4d1c-b223-c8cb3e165f4e",
   "metadata": {},
   "source": [
    "| Data Science Tools |\n",
    "----------------------\n",
    "| Jupyter            |\n",
    "| GitHub             |\n",
    "| RStudio            |\n"
   ]
  },
  {
   "cell_type": "raw",
   "id": "1cc300af-f4dc-4c94-88ee-81e0f9cf4375",
   "metadata": {},
   "source": [
    "### Below are a few examples of evaluating arithmetic expressions in Python"
   ]
  },
  {
   "cell_type": "code",
   "execution_count": 35,
   "id": "0d1bc783-a0e2-4ef4-8481-a68edeacff17",
   "metadata": {
    "scrolled": true
   },
   "outputs": [
    {
     "data": {
      "text/plain": [
       "17"
      ]
     },
     "execution_count": 35,
     "metadata": {},
     "output_type": "execute_result"
    }
   ],
   "source": [
    "# This a simple arithmetic expression to mutiply then add integers.\n",
    "(3*4)+5"
   ]
  },
  {
   "cell_type": "code",
   "execution_count": 36,
   "id": "eb3eec98-a349-4585-bc6b-b8f5ed11bd38",
   "metadata": {},
   "outputs": [
    {
     "data": {
      "text/plain": [
       "3.3333333333333335"
      ]
     },
     "execution_count": 36,
     "metadata": {},
     "output_type": "execute_result"
    }
   ],
   "source": [
    "# This will convert 200 minutes to hours by diving 200 by 60.\n",
    "200/60"
   ]
  },
  {
   "cell_type": "markdown",
   "id": "fde7a0e2-9b60-4874-b820-053fb4ec881c",
   "metadata": {},
   "source": [
    "## Author\n",
    "Eugen"
   ]
  }
 ],
 "metadata": {
  "kernelspec": {
   "display_name": "Python 3 (ipykernel)",
   "language": "python",
   "name": "python3"
  },
  "language_info": {
   "codemirror_mode": {
    "name": "ipython",
    "version": 3
   },
   "file_extension": ".py",
   "mimetype": "text/x-python",
   "name": "python",
   "nbconvert_exporter": "python",
   "pygments_lexer": "ipython3",
   "version": "3.11.5"
  }
 },
 "nbformat": 4,
 "nbformat_minor": 5
}
