{
 "cells": [
  {
   "cell_type": "markdown",
   "id": "43719e02-bacb-426f-999a-ef1444d7797e",
   "metadata": {},
   "source": [
    "# Data Science Tools and Ecosystem"
   ]
  },
  {
   "cell_type": "markdown",
   "id": "52add2ec-ad0e-4090-a469-a84282363967",
   "metadata": {},
   "source": [
    "In this notebook, Data Science Tools and Ecosystem are summarized."
   ]
  },
  {
   "cell_type": "markdown",
   "id": "cfc5ef5b-7dbf-4786-a261-1e2079609fee",
   "metadata": {},
   "source": [
    "__Objectives:__\n",
    "+ List of popular languages for Data Science\n",
    "+ Some commonly used libraries in Data Science\n",
    "+ Some open source tools in Data Science\n",
    "+ Some arithmetic expressions in Python"
   ]
  },
  {
   "cell_type": "markdown",
   "id": "c89373af-8502-4f78-9b37-a0a4ae1b519b",
   "metadata": {},
   "source": [
    "Some of the popular languages that Data Scientists use are:"
   ]
  },
  {
   "cell_type": "markdown",
   "id": "29d7a746-e2f5-415a-9ed1-cbd481da245b",
   "metadata": {},
   "source": [
    "1. Python\n",
    "2. C+\n",
    "3. C++\n",
    "4. Java"
   ]
  },
  {
   "cell_type": "markdown",
   "id": "ddbd9b2c-794e-4b30-8a4a-7b3697eb1846",
   "metadata": {},
   "source": [
    "Some of the commonly used libraries used by Data Scientists include:"
   ]
  },
  {
   "cell_type": "markdown",
   "id": "4e0e930f-2493-483e-8d02-7b4f0af00621",
   "metadata": {},
   "source": [
    "1. Python libraries\n",
    "2. NumPy libraries\n",
    "3. dplyr\n",
    "4. ggplot"
   ]
  },
  {
   "cell_type": "markdown",
   "id": "87db34bd-23e5-43c3-9af9-2f36c2196efb",
   "metadata": {},
   "source": [
    "| Data Science Tools |\n",
    "----------------------\n",
    "| Jupyter            |\n",
    "----------------------\n",
    "| GitHub             |\n",
    "----------------------\n",
    "| RStudio            |\n",
    "----------------------"
   ]
  },
  {
   "cell_type": "markdown",
   "id": "09025469-ddad-4c6b-adee-8dec1cc383f2",
   "metadata": {},
   "source": [
    "### Below are a few examples of evaluating arithmetic expressions in Python"
   ]
  },
  {
   "cell_type": "code",
   "execution_count": 29,
   "id": "e2a222e2-8a90-445a-a9bf-9d7ee05a76ef",
   "metadata": {
    "scrolled": true
   },
   "outputs": [
    {
     "data": {
      "text/plain": [
       "17"
      ]
     },
     "execution_count": 29,
     "metadata": {},
     "output_type": "execute_result"
    }
   ],
   "source": [
    "# This a simple arithmetic expression to mutiply then add integers.\n",
    "(3*4)+5"
   ]
  },
  {
   "cell_type": "code",
   "execution_count": 30,
   "id": "eb3eec98-a349-4585-bc6b-b8f5ed11bd38",
   "metadata": {},
   "outputs": [
    {
     "data": {
      "text/plain": [
       "3.3333333333333335"
      ]
     },
     "execution_count": 30,
     "metadata": {},
     "output_type": "execute_result"
    }
   ],
   "source": [
    "# This will convert 200 minutes to hours by diving 200 by 60.\n",
    "200/60"
   ]
  },
  {
   "cell_type": "markdown",
   "id": "37700cf6-53c2-4880-a33f-ed4bb63e9311",
   "metadata": {},
   "source": [
    "## Author\n",
    "Eugen"
   ]
  }
 ],
 "metadata": {
  "kernelspec": {
   "display_name": "Python 3 (ipykernel)",
   "language": "python",
   "name": "python3"
  },
  "language_info": {
   "codemirror_mode": {
    "name": "ipython",
    "version": 3
   },
   "file_extension": ".py",
   "mimetype": "text/x-python",
   "name": "python",
   "nbconvert_exporter": "python",
   "pygments_lexer": "ipython3",
   "version": "3.11.5"
  }
 },
 "nbformat": 4,
 "nbformat_minor": 5
}
